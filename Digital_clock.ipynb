{
 "cells": [
  {
   "cell_type": "code",
   "execution_count": 16,
   "id": "a74b6bba-cabd-488b-aaa3-bffe3621799d",
   "metadata": {},
   "outputs": [],
   "source": [
    "from time import strftime\n",
    "from tkinter import Label, Tk\n",
    "\n",
    "window = Tk()\n",
    "window.title(\"Digital Clock\")\n",
    "window.configure(bg = \"black\")\n",
    "window.resizable(False, False)\n",
    "\n",
    "clock_label = Label(window, bg = \"black\", fg = \"white\", font = (\"Times\", 30, \"bold\"), relief = \"flat\")\n",
    "clock_label.place(x = 20, y = 60)\n",
    "\n",
    "def updating_label():\n",
    "    current_time = strftime(\"%H: %M: %S\")\n",
    "    clock_label.configure(text = current_time)\n",
    "    clock_label.after(80, updating_label)\n",
    "\n",
    "updating_label()\n",
    "window.mainloop()"
   ]
  },
  {
   "cell_type": "code",
   "execution_count": null,
   "id": "0bb140ea-2925-4ab7-b6cb-cf3452ee4357",
   "metadata": {},
   "outputs": [],
   "source": []
  }
 ],
 "metadata": {
  "kernelspec": {
   "display_name": "Python 3 (ipykernel)",
   "language": "python",
   "name": "python3"
  },
  "language_info": {
   "codemirror_mode": {
    "name": "ipython",
    "version": 3
   },
   "file_extension": ".py",
   "mimetype": "text/x-python",
   "name": "python",
   "nbconvert_exporter": "python",
   "pygments_lexer": "ipython3",
   "version": "3.12.3"
  }
 },
 "nbformat": 4,
 "nbformat_minor": 5
}
